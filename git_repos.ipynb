{
 "cells": [
  {
   "cell_type": "code",
   "execution_count": 2,
   "id": "972b70fa",
   "metadata": {
    "tags": []
   },
   "outputs": [
    {
     "data": {
      "text/plain": [
       "'/Users/annikadinulos/Desktop/UNLV_DS/PalmerPenguins'"
      ]
     },
     "execution_count": 2,
     "metadata": {},
     "output_type": "execute_result"
    }
   ],
   "source": [
    "#get path to current working directory\n",
    "%pwd"
   ]
  },
  {
   "cell_type": "code",
   "execution_count": 3,
   "id": "fb3c81ad-6e70-4ad4-b3de-67dee4173787",
   "metadata": {
    "tags": []
   },
   "outputs": [
    {
     "name": "stdout",
     "output_type": "stream",
     "text": [
      "PenguinsExercise.ipynb  git_repos.ipynb         palmer_penguins.csv\n"
     ]
    }
   ],
   "source": [
    "#look inside directory\n",
    "%ls"
   ]
  },
  {
   "cell_type": "code",
   "execution_count": 6,
   "id": "a8fbdc2b-086a-45e4-a57c-a3a5d4a23086",
   "metadata": {
    "tags": []
   },
   "outputs": [
    {
     "name": "stdout",
     "output_type": "stream",
     "text": [
      "[master (root-commit) d58b7b3] first commit\n",
      " Committer: Annika Dinulos <annikadinulos@Annikas-MacBook-Air.local>\n",
      "Your name and email address were configured automatically based\n",
      "on your username and hostname. Please check that they are accurate.\n",
      "You can suppress this message by setting them explicitly. Run the\n",
      "following command and follow the instructions in your editor to edit\n",
      "your configuration file:\n",
      "\n",
      "    git config --global --edit\n",
      "\n",
      "After doing this, you may fix the identity used for this commit with:\n",
      "\n",
      "    git commit --amend --reset-author\n",
      "\n",
      " 6 files changed, 5408 insertions(+)\n",
      " create mode 100644 .ipynb_checkpoints/PenguinsExercise-checkpoint.ipynb\n",
      " create mode 100644 .ipynb_checkpoints/git_repos-checkpoint.ipynb\n",
      " create mode 100644 .ipynb_checkpoints/palmer_penguins-checkpoint.csv\n",
      " create mode 100644 PenguinsExercise.ipynb\n",
      " create mode 100644 git_repos.ipynb\n",
      " create mode 100644 palmer_penguins.csv\n"
     ]
    }
   ],
   "source": [
    "#Create a git repository\n",
    "#(Unhash the following git commands to run)\n",
    "#!git init\n",
    "#!git add -A\n",
    "!git commit -m \"first commit\""
   ]
  },
  {
   "cell_type": "code",
   "execution_count": 9,
   "id": "dee67865-c9da-4c29-8ddc-87d5a380021f",
   "metadata": {},
   "outputs": [
    {
     "name": "stdout",
     "output_type": "stream",
     "text": [
      "/usr/bin/git\n"
     ]
    }
   ],
   "source": [
    "!which git"
   ]
  },
  {
   "cell_type": "code",
   "execution_count": 7,
   "id": "5dafcfd5-8208-45fe-906f-6bcabce46187",
   "metadata": {
    "tags": []
   },
   "outputs": [
    {
     "name": "stdout",
     "output_type": "stream",
     "text": [
      "On branch master\n",
      "nothing to commit, working tree clean\n"
     ]
    }
   ],
   "source": [
    "#Check status of git tracking\n",
    "!git status\n",
    "\n",
    "\n",
    "git remote add origin https://github.com/adinulos/palmer_penguins.git\n",
    "git branch -M main\n",
    "git push -u origin main"
   ]
  },
  {
   "cell_type": "markdown",
   "id": "6f1c7f70-9391-4177-a35d-df13deeb60f2",
   "metadata": {},
   "source": [
    "##### The next three cells should be run only one time. This will connect the local repository with GitHub"
   ]
  },
  {
   "cell_type": "code",
   "execution_count": 8,
   "id": "42fa3493-66eb-4aa2-9056-f34dad9acfe6",
   "metadata": {
    "tags": []
   },
   "outputs": [],
   "source": [
    "#Connect local project with github repo\n",
    "!git remote add origin https://github.com/adinulos/palmer_penguins.git"
   ]
  },
  {
   "cell_type": "code",
   "execution_count": 9,
   "id": "08b56528-d726-4041-aad7-5e6db0c55508",
   "metadata": {},
   "outputs": [],
   "source": [
    "!git branch -M main"
   ]
  },
  {
   "cell_type": "code",
   "execution_count": 10,
   "id": "5429d6dc-c8d6-4c20-adc8-52d5b715f808",
   "metadata": {
    "tags": []
   },
   "outputs": [
    {
     "name": "stdout",
     "output_type": "stream",
     "text": [
      "Username for 'https://github.com': ^C\n"
     ]
    }
   ],
   "source": [
    "!git push -u origin main"
   ]
  },
  {
   "cell_type": "code",
   "execution_count": 11,
   "id": "452f4efc-c25e-442e-8d7c-cf22744f99c7",
   "metadata": {
    "tags": []
   },
   "outputs": [
    {
     "name": "stdout",
     "output_type": "stream",
     "text": [
      "On branch main\n",
      "Changes not staged for commit:\n",
      "  (use \"git add <file>...\" to update what will be committed)\n",
      "  (use \"git restore <file>...\" to discard changes in working directory)\n",
      "\t\u001b[31mmodified:   git_repos.ipynb\u001b[m\n",
      "\n",
      "no changes added to commit (use \"git add\" and/or \"git commit -a\")\n"
     ]
    }
   ],
   "source": [
    "!git status"
   ]
  },
  {
   "cell_type": "code",
   "execution_count": 12,
   "id": "e038ef43-3f9b-47e2-8de0-e840b6b46f5e",
   "metadata": {
    "tags": []
   },
   "outputs": [
    {
     "name": "stdout",
     "output_type": "stream",
     "text": [
      "On branch main\n",
      "Changes to be committed:\n",
      "  (use \"git restore --staged <file>...\" to unstage)\n",
      "\t\u001b[32mmodified:   git_repos.ipynb\u001b[m\n",
      "\n"
     ]
    }
   ],
   "source": [
    "# The '-A' flag adds everything in directory\n",
    "!git add -A\n",
    "!git status"
   ]
  },
  {
   "cell_type": "code",
   "execution_count": 13,
   "id": "fffd2144-ad39-4b93-beb1-cb767a0c4b57",
   "metadata": {
    "tags": []
   },
   "outputs": [
    {
     "name": "stdout",
     "output_type": "stream",
     "text": [
      "[main d8ce839] start project\n",
      " Committer: Annika Dinulos <annikadinulos@Annikas-MacBook-Air.local>\n",
      "Your name and email address were configured automatically based\n",
      "on your username and hostname. Please check that they are accurate.\n",
      "You can suppress this message by setting them explicitly. Run the\n",
      "following command and follow the instructions in your editor to edit\n",
      "your configuration file:\n",
      "\n",
      "    git config --global --edit\n",
      "\n",
      "After doing this, you may fix the identity used for this commit with:\n",
      "\n",
      "    git commit --amend --reset-author\n",
      "\n",
      " 1 file changed, 44 insertions(+), 50 deletions(-)\n",
      "fatal: The current branch main has no upstream branch.\n",
      "To push the current branch and set the remote as upstream, use\n",
      "\n",
      "    git push --set-upstream origin main\n",
      "\n"
     ]
    }
   ],
   "source": [
    "!git commit -m \"start project\"\n",
    "!git push"
   ]
  },
  {
   "cell_type": "code",
   "execution_count": 15,
   "id": "a04d2569-122b-4231-9b0b-84ac72936eb5",
   "metadata": {
    "tags": []
   },
   "outputs": [
    {
     "name": "stdout",
     "output_type": "stream",
     "text": [
      "Username for 'https://github.com': ^C\n"
     ]
    }
   ],
   "source": [
    "!git push --set-upstream origin main"
   ]
  },
  {
   "cell_type": "code",
   "execution_count": 16,
   "id": "27d5c0e6-d229-4544-9316-2bc4cddfc625",
   "metadata": {
    "tags": []
   },
   "outputs": [
    {
     "name": "stdout",
     "output_type": "stream",
     "text": [
      "On branch main\n",
      "Changes not staged for commit:\n",
      "  (use \"git add <file>...\" to update what will be committed)\n",
      "  (use \"git restore <file>...\" to discard changes in working directory)\n",
      "\t\u001b[31mmodified:   PenguinsExercise.ipynb\u001b[m\n",
      "\t\u001b[31mmodified:   git_repos.ipynb\u001b[m\n",
      "\n",
      "no changes added to commit (use \"git add\" and/or \"git commit -a\")\n"
     ]
    }
   ],
   "source": [
    "!git status"
   ]
  },
  {
   "cell_type": "code",
   "execution_count": 12,
   "id": "3e51a5c7-e8d8-423c-a8d9-9fe72259cbe1",
   "metadata": {
    "collapsed": true,
    "jupyter": {
     "outputs_hidden": true
    },
    "tags": []
   },
   "outputs": [
    {
     "name": "stdout",
     "output_type": "stream",
     "text": [
      "[master 611397b] removed github ssh address\n",
      " 1 file changed, 100 insertions(+), 30 deletions(-)\n",
      "Enumerating objects: 5, done.\n",
      "Counting objects: 100% (5/5), done.\n",
      "Delta compression using up to 4 threads\n",
      "Compressing objects: 100% (3/3), done.\n",
      "Writing objects: 100% (3/3), 1.23 KiB | 1.23 MiB/s, done.\n",
      "Total 3 (delta 1), reused 0 (delta 0)\n",
      "remote: Resolving deltas: 100% (1/1), completed with 1 local object.\u001b[K\n",
      "To github.com:gmednick/LB_BI.git\n",
      "   68750fc..611397b  master -> master\n"
     ]
    }
   ],
   "source": [
    "!git add git_repos.ipynb\n",
    "!git commit -m \"removed github ssh address\"\n",
    "!git push"
   ]
  },
  {
   "cell_type": "code",
   "execution_count": null,
   "id": "69135669-ae7c-4ce3-82be-e4a290bc6012",
   "metadata": {},
   "outputs": [],
   "source": []
  }
 ],
 "metadata": {
  "kernelspec": {
   "display_name": "Python 3 (ipykernel)",
   "language": "python",
   "name": "python3"
  },
  "language_info": {
   "codemirror_mode": {
    "name": "ipython",
    "version": 3
   },
   "file_extension": ".py",
   "mimetype": "text/x-python",
   "name": "python",
   "nbconvert_exporter": "python",
   "pygments_lexer": "ipython3",
   "version": "3.9.12"
  }
 },
 "nbformat": 4,
 "nbformat_minor": 5
}
